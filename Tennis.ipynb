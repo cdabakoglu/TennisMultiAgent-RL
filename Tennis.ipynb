{
 "cells": [
  {
   "cell_type": "markdown",
   "metadata": {},
   "source": [
    "# Tennis - Multi Agent"
   ]
  },
  {
   "cell_type": "code",
   "execution_count": 1,
   "metadata": {},
   "outputs": [],
   "source": [
    "from unityagents import UnityEnvironment\n",
    "\n",
    "import numpy as np"
   ]
  },
  {
   "cell_type": "code",
   "execution_count": 2,
   "metadata": {},
   "outputs": [
    {
     "name": "stderr",
     "output_type": "stream",
     "text": [
      "INFO:unityagents:\n",
      "'Academy' started successfully!\n",
      "Unity Academy name: Academy\n",
      "        Number of Brains: 1\n",
      "        Number of External Brains : 1\n",
      "        Lesson number : 0\n",
      "        Reset Parameters :\n",
      "\t\t\n",
      "Unity brain name: TennisBrain\n",
      "        Number of Visual Observations (per agent): 0\n",
      "        Vector Observation space type: continuous\n",
      "        Vector Observation space size (per agent): 8\n",
      "        Number of stacked Vector Observation: 3\n",
      "        Vector Action space type: continuous\n",
      "        Vector Action space size (per agent): 2\n",
      "        Vector Action descriptions: , \n"
     ]
    }
   ],
   "source": [
    "env = UnityEnvironment(file_name=\"environments/Tennis.app\")"
   ]
  },
  {
   "cell_type": "code",
   "execution_count": 3,
   "metadata": {},
   "outputs": [
    {
     "name": "stdout",
     "output_type": "stream",
     "text": [
      "Number of agents: 2\n",
      "Size of each action: 2\n",
      "There are 2 agents. Each observes a state with length: 24\n",
      "The state for the first agent looks like: [ 0.          0.          0.          0.          0.          0.\n",
      "  0.          0.          0.          0.          0.          0.\n",
      "  0.          0.          0.          0.         -6.65278625 -1.5\n",
      " -0.          0.          6.83172083  6.         -0.          0.        ]\n",
      "(24,)\n"
     ]
    }
   ],
   "source": [
    "# reset the environment\n",
    "brain_name = env.brain_names[0]\n",
    "brain = env.brains[brain_name]\n",
    "env_info = env.reset(train_mode=True)[brain_name]\n",
    "\n",
    "# number of agents \n",
    "num_agents = len(env_info.agents)\n",
    "print('Number of agents:', num_agents)\n",
    "\n",
    "# size of each action\n",
    "action_size = brain.vector_action_space_size\n",
    "print('Size of each action:', action_size)\n",
    "\n",
    "# examine the state space \n",
    "states = env_info.vector_observations\n",
    "state_size = states.shape[1]\n",
    "print('There are {} agents. Each observes a state with length: {}'.format(states.shape[0], state_size))\n",
    "print('The state for the first agent looks like:', states[0])\n",
    "print(states[0].shape)"
   ]
  },
  {
   "cell_type": "markdown",
   "metadata": {},
   "source": [
    "## Train Agent"
   ]
  },
  {
   "cell_type": "code",
   "execution_count": 4,
   "metadata": {},
   "outputs": [],
   "source": [
    "env_info = env.reset(train_mode=True)[brain_name]"
   ]
  },
  {
   "cell_type": "code",
   "execution_count": 5,
   "metadata": {},
   "outputs": [
    {
     "name": "stdout",
     "output_type": "stream",
     "text": [
      "24\n"
     ]
    }
   ],
   "source": [
    "action_size = brain.vector_action_space_size\n",
    "states = env_info.vector_observations\n",
    "state_size = states.shape[1]\n",
    "print(state_size)"
   ]
  },
  {
   "cell_type": "code",
   "execution_count": 6,
   "metadata": {},
   "outputs": [],
   "source": [
    "import matplotlib.pyplot as plt\n",
    "import torch\n",
    "\n",
    "from ddpg_agent import Agent\n",
    "from collections import deque\n",
    "\n",
    "agent_1 = Agent(state_size, action_size, random_seed=42)\n",
    "agent_2 = Agent(state_size, action_size, random_seed=42)\n",
    "\n",
    "\n",
    "def ddpg_double_agent(env, agent_1, agent_2, num_episodes=5000, optimum_score=0.5):\n",
    "    scores = []\n",
    "    scores_window = deque(maxlen=100)  # last 100 scores\n",
    "    for i_episode in range(1, num_episodes + 1):\n",
    "        agent_1.reset()\n",
    "        agent_1.reset()\n",
    "        score = np.zeros(2)\n",
    "\n",
    "        env_info = env.reset(train_mode=True)[brain_name]\n",
    "        state = np.reshape(env_info.vector_observations, (1,48))\n",
    "        while True:\n",
    "\n",
    "            action_1 = agent_1.act(state, add_noise=True)\n",
    "            action_2 = agent_2.act(state, add_noise=True)\n",
    "\n",
    "            actions = np.concatenate((action_1, action_2), axis=0).flatten()\n",
    "            env_info = env.step(actions)[brain_name]\n",
    "            next_state = np.reshape(env_info.vector_observations, (1,48))\n",
    "            rewards = env_info.rewards\n",
    "            dones = env_info.local_done\n",
    "\n",
    "            score += rewards\n",
    "\n",
    "            agent_1.step(state, actions, rewards[0], next_state, dones[0], 1)\n",
    "            agent_2.step(state, actions, rewards[1], next_state, dones[1], 2)\n",
    "\n",
    "            state = next_state\n",
    "\n",
    "            if np.any(dones):\n",
    "                break\n",
    "                \n",
    "        scores_window.append(score)       # save most recent score\n",
    "        scores.append(score)\n",
    "        \n",
    "        if i_episode % 100 == 0:\n",
    "            print('\\rEpisode {}\\tAverage Score: {:.2f}'.format(i_episode, np.mean(scores_window)))\n",
    "\n",
    "        if np.mean(scores_window) >= optimum_score:\n",
    "            print(\"\\t Environment is solved in {} episodes!\".format(i_episode))\n",
    "            break\n",
    "\n",
    "    torch.save(agent_1.actor_local.state_dict(), \"actor_checkpoint_1.pth\")\n",
    "    torch.save(agent_1.critic_local.state_dict(), \"critic_checkpoint_1.pth\")\n",
    "\n",
    "    torch.save(agent_2.actor_local.state_dict(), \"actor_checkpoint_2.pth\")\n",
    "    torch.save(agent_2.critic_local.state_dict(), \"critic_checkpoint_2.pth\")\n",
    "\n",
    "    return scores"
   ]
  },
  {
   "cell_type": "code",
   "execution_count": 7,
   "metadata": {},
   "outputs": [
    {
     "name": "stdout",
     "output_type": "stream",
     "text": [
      "Episode 100\tAverage Score: 0.02\n",
      "Episode 200\tAverage Score: 0.01\n",
      "Episode 300\tAverage Score: -0.00\n",
      "Episode 400\tAverage Score: 0.01\n",
      "Episode 500\tAverage Score: 0.01\n",
      "Episode 600\tAverage Score: 0.01\n",
      "Episode 700\tAverage Score: 0.01\n",
      "Episode 800\tAverage Score: 0.02\n",
      "Episode 900\tAverage Score: 0.03\n",
      "Episode 1000\tAverage Score: 0.05\n",
      "Episode 1100\tAverage Score: 0.05\n",
      "Episode 1200\tAverage Score: 0.05\n",
      "Episode 1300\tAverage Score: 0.06\n",
      "Episode 1400\tAverage Score: 0.06\n",
      "Episode 1500\tAverage Score: 0.08\n",
      "Episode 1600\tAverage Score: 0.11\n",
      "Episode 1700\tAverage Score: 0.15\n",
      "Episode 1800\tAverage Score: 0.15\n",
      "Episode 1900\tAverage Score: 0.16\n",
      "Episode 2000\tAverage Score: 0.17\n",
      "Episode 2100\tAverage Score: 0.30\n",
      "Episode 2200\tAverage Score: 0.35\n",
      "Episode 2300\tAverage Score: 0.45\n",
      "\t Environment is solved in 2392 episodes!\n"
     ]
    }
   ],
   "source": [
    "scores = ddpg_double_agent(env, agent_1, agent_2)"
   ]
  },
  {
   "cell_type": "code",
   "execution_count": 12,
   "metadata": {},
   "outputs": [
    {
     "data": {
      "text/plain": [
       "0.5014500076789409"
      ]
     },
     "execution_count": 12,
     "metadata": {},
     "output_type": "execute_result"
    }
   ],
   "source": [
    "np.mean(scores[-100:])"
   ]
  },
  {
   "cell_type": "code",
   "execution_count": 17,
   "metadata": {},
   "outputs": [
    {
     "data": {
      "image/png": "[encoded data removed]",
      "text/plain": [
       "<Figure size 432x288 with 1 Axes>"
      ]
     },
     "metadata": {
      "needs_background": "light"
     },
     "output_type": "display_data"
    }
   ],
   "source": [
    "sc1 = [i[0] for i in scores]\n",
    "sc2 = [i[1] for i in scores]\n",
    "# plot the scores\n",
    "fig = plt.figure()\n",
    "ax = fig.add_subplot(111)\n",
    "plt.plot(np.arange(len(sc1)), sc1)\n",
    "plt.ylabel('Score for Agent 1')\n",
    "plt.xlabel('Episode #')\n",
    "plt.show()"
   ]
  },
  {
   "cell_type": "code",
   "execution_count": 16,
   "metadata": {},
   "outputs": [
    {
     "data": {
      "image/png": "[encoded data removed]",
      "text/plain": [
       "<Figure size 432x288 with 1 Axes>"
      ]
     },
     "metadata": {
      "needs_background": "light"
     },
     "output_type": "display_data"
    }
   ],
   "source": [
    "fig = plt.figure()\n",
    "ax = fig.add_subplot(111)\n",
    "plt.plot(np.arange(len(sc2)), sc2, c='orange')\n",
    "plt.ylabel('Score for Agent 2')\n",
    "plt.xlabel('Episode #')\n",
    "plt.show()"
   ]
  },
  {
   "cell_type": "markdown",
   "metadata": {},
   "source": [
    "## Watched Trained Agent"
   ]
  },
  {
   "cell_type": "code",
   "execution_count": 18,
   "metadata": {},
   "outputs": [
    {
     "name": "stdout",
     "output_type": "stream",
     "text": [
      "Score: [0.50000001 0.39000001]\n"
     ]
    }
   ],
   "source": [
    "# load the weights from file\n",
    "agent_1.actor_local.load_state_dict(torch.load('actor_checkpoint_1.pth', map_location={'cuda:0': 'cpu'}))\n",
    "agent_1.critic_local.load_state_dict(torch.load('critic_checkpoint_1.pth', map_location={'cuda:0': 'cpu'}))\n",
    "\n",
    "agent_2.actor_local.load_state_dict(torch.load('actor_checkpoint_2.pth', map_location={'cuda:0': 'cpu'}))\n",
    "agent_2.critic_local.load_state_dict(torch.load('critic_checkpoint_2.pth', map_location={'cuda:0': 'cpu'}))\n",
    "\n",
    "env_info = env.reset(train_mode=False)[brain_name] \n",
    "state = np.reshape(env_info.vector_observations, (1,48))            \n",
    "score = np.zeros(2)                                          \n",
    "while True:\n",
    "    action_1 = agent_1.act(state)\n",
    "    action_2 = agent_2.act(state)                      \n",
    "    actions = np.concatenate((action_1, action_2), axis=0).flatten()\n",
    "    env_info = env.step(actions)[brain_name]        \n",
    "    next_state = np.reshape(env_info.vector_observations, (1,48))\n",
    "    reward = env_info.rewards                   \n",
    "    done = env_info.local_done                  \n",
    "    score += reward                                \n",
    "    state = next_state                             \n",
    "    if np.any(done):\n",
    "        break\n",
    "    \n",
    "print(\"Score: {}\".format(score))\n",
    "\n",
    "env.close()"
   ]
  },
  {
   "cell_type": "code",
   "execution_count": null,
   "metadata": {},
   "outputs": [],
   "source": []
  }
 ],
 "metadata": {
  "kernelspec": {
   "display_name": "Python 3",
   "language": "python",
   "name": "python3"
  },
  "language_info": {
   "codemirror_mode": {
    "name": "ipython",
    "version": 3
   },
   "file_extension": ".py",
   "mimetype": "text/x-python",
   "name": "python",
   "nbconvert_exporter": "python",
   "pygments_lexer": "ipython3",
   "version": "3.6.10"
  }
 },
 "nbformat": 4,
 "nbformat_minor": 2
}
